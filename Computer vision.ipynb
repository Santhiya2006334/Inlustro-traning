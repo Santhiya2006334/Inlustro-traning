{
 "cells": [
  {
   "cell_type": "code",
   "execution_count": null,
   "id": "7af0ea06",
   "metadata": {},
   "outputs": [],
   "source": [
    "import cv2\n",
    "image = cv2.imread('Pomeranian')\n",
    "cv2.imshow('Original Image', image)\n",
    "gray_image = cv2.cvtCOLOR(image, cv2.COLOR_BGE2GRAY)\n",
    "cv2.imshow('Grayscale Image',gray_image)\n",
    "cv2.imwrite('gray_image.jpg',gray_image)\n",
    "cv2.waitKey(0)\n",
    "cv2.destroyA11Windows()"
   ]
  },
  {
   "cell_type": "code",
   "execution_count": null,
   "id": "ea7d72ec",
   "metadata": {},
   "outputs": [],
   "source": [
    "pip install opencv-python"
   ]
  }
 ],
 "metadata": {
  "kernelspec": {
   "display_name": "Python 3 (ipykernel)",
   "language": "python",
   "name": "python3"
  },
  "language_info": {
   "codemirror_mode": {
    "name": "ipython",
    "version": 3
   },
   "file_extension": ".py",
   "mimetype": "text/x-python",
   "name": "python",
   "nbconvert_exporter": "python",
   "pygments_lexer": "ipython3",
   "version": "3.9.7"
  }
 },
 "nbformat": 4,
 "nbformat_minor": 5
}
